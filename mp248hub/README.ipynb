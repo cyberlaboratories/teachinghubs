{
 "cells": [
  {
   "cell_type": "markdown",
   "metadata": {},
   "source": [
    "# Cyberhub application for  MATH248/PHYS248 \n",
    "\n",
    "## Setting up\n",
    "\n",
    "In the notebooks directory: clone [course repo](https://github.com/UVic-CompPhys/physmath248-2018)\n",
    "```\n",
    "git clone https://github.com/UVic-CompPhys/physmath248-2018.git\n",
    "```\n",
    "\n",
    "Then  [according to instructions (at bottom)](https://github.com/UVic-CompPhys/physmath248-2018/blob/master/Part.I/Lab.1a.ipynb) [and here](https://github.com/UVic-CompPhys/physmath248-2018/blob/master/Part.I/2.%20Intro%20Git.ipynb), clone your own BitBucket repo. It is recommended that you set up your .ssh keys with your own repo account for easy pull/push (without having to type in your passwd).\n",
    "\n",
    "\n",
    "## Technical notes\n",
    "\n",
    "### Available software\n",
    "* Python packages: [corehub](https://github.com/cyberlaboratories/cyberhubs/blob/master/singleuser/single_pip3_requirements_corehub.txt) plus [mp248 hub](https://github.com/cyberlaboratories/teachinghubs/blob/master/mp248hub/single_pip3_requirements_mp248.txt)\n",
    "* Linux packages: [corehub](https://github.com/cyberlaboratories/cyberhubs/blob/master/singleuser/apt_packages_corehub.txt) plus [mp248hub](https://github.com/cyberlaboratories/teachinghubs/blob/master/mp248hub/apt_packages_mlhub.txt)\n",
    "\n",
    "\n",
    "### Additional information\n",
    "* When you are on the home screen of a jupyter notebook session you will see the content that is located in your home directory's `notebooks` directory. If you have launched a JupyterLab session the Files view will show your home directory.\n",
    "* **Important note:** Storage in your home directory is **not persistent** which means that when your restart your server instance (which you do not have to do often, see however below) the data in your home directory (the place you are when you type just `cd` and hit Return) is lost. The approved way to use this application is to keep a clone of the course repo with the course materials and your own repo shared with the instructors in your home dir, and `add/commit/push` frequently any work you are doing.\n",
    "\n",
    "\n",
    "### Persistence of home directory and platform updates\n",
    "When new capabilties become available (e.g. new packages added needed in class)  you need to restart your application instance: \n",
    "1. Save your work to your course BitBucket repo. Check that it is actually there!\n",
    "2. Go to the home screen of the jupyter session and choose on the top-right _Control Panel_ -> _Stop My Server_ and wait a moment until the red icon disappeared, then click _Start Server_ and then select again the _MP248_ application in the spawner menu. \n",
    "3. If you get an error you may have to click the logo in the top-left corner.\n",
    "\n"
   ]
  }
 ],
 "metadata": {
  "anaconda-cloud": {},
  "kernelspec": {
   "display_name": "Python 3",
   "language": "python",
   "name": "python3"
  },
  "language_info": {
   "codemirror_mode": {
    "name": "ipython",
    "version": 3
   },
   "file_extension": ".py",
   "mimetype": "text/x-python",
   "name": "python",
   "nbconvert_exporter": "python",
   "pygments_lexer": "ipython3",
   "version": "3.6.4"
  }
 },
 "nbformat": 4,
 "nbformat_minor": 1
}
